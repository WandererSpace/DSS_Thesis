{
 "cells": [
  {
   "cell_type": "markdown",
   "id": "d6d0b4e2",
   "metadata": {},
   "source": [
    "Set Up"
   ]
  },
  {
   "cell_type": "code",
   "execution_count": 3,
   "id": "4a494d42-24ae-48ed-b49a-1e24d8f7fbc4",
   "metadata": {},
   "outputs": [
    {
     "ename": "ModuleNotFoundError",
     "evalue": "No module named 'utils'",
     "output_type": "error",
     "traceback": [
      "\u001b[0;31m---------------------------------------------------------------------------\u001b[0m",
      "\u001b[0;31mModuleNotFoundError\u001b[0m                       Traceback (most recent call last)",
      "Cell \u001b[0;32mIn[3], line 4\u001b[0m\n\u001b[1;32m      1\u001b[0m check_vars \u001b[38;5;241m=\u001b[39m [\u001b[38;5;124m\"\u001b[39m\u001b[38;5;124mn_scflag_dv\u001b[39m\u001b[38;5;124m\"\u001b[39m, \u001b[38;5;124m\"\u001b[39m\u001b[38;5;124mn_scghq2_dv\u001b[39m\u001b[38;5;124m\"\u001b[39m, \u001b[38;5;124m\"\u001b[39m\u001b[38;5;124mn_scghq1_dv\u001b[39m\u001b[38;5;124m\"\u001b[39m, \u001b[38;5;124m\"\u001b[39m\u001b[38;5;124mn_sf12mcs_dv\u001b[39m\u001b[38;5;124m\"\u001b[39m]\n\u001b[1;32m      3\u001b[0m \u001b[38;5;66;03m# 实际加载的数据（建议从 parquet 读）\u001b[39;00m\n\u001b[0;32m----> 4\u001b[0m \u001b[38;5;28;01mfrom\u001b[39;00m \u001b[38;5;21;01mutils\u001b[39;00m\u001b[38;5;21;01m.\u001b[39;00m\u001b[38;5;21;01mconfig\u001b[39;00m \u001b[38;5;28;01mimport\u001b[39;00m load_config, abspath\n\u001b[1;32m      5\u001b[0m cfg, root \u001b[38;5;241m=\u001b[39m load_config()\n\u001b[1;32m      6\u001b[0m df \u001b[38;5;241m=\u001b[39m pd\u001b[38;5;241m.\u001b[39mread_parquet(abspath(root, cfg[\u001b[38;5;124m\"\u001b[39m\u001b[38;5;124mprocessing\u001b[39m\u001b[38;5;124m\"\u001b[39m][\u001b[38;5;124m\"\u001b[39m\u001b[38;5;124moutputs\u001b[39m\u001b[38;5;124m\"\u001b[39m][\u001b[38;5;124m\"\u001b[39m\u001b[38;5;124mindresp_selected\u001b[39m\u001b[38;5;124m\"\u001b[39m]))\n",
      "\u001b[0;31mModuleNotFoundError\u001b[0m: No module named 'utils'"
     ]
    }
   ],
   "source": [
    "check_vars = [\"n_scflag_dv\", \"n_scghq2_dv\", \"n_scghq1_dv\", \"n_sf12mcs_dv\"]\n",
    "\n",
    "# 实际加载的数据（建议从 parquet 读）\n",
    "from utils.config import load_config, abspath\n",
    "cfg, root = load_config()\n",
    "df = pd.read_parquet(abspath(root, cfg[\"processing\"][\"outputs\"][\"indresp_selected\"]))\n",
    "\n",
    "for col in check_vars:\n",
    "    if col in df.columns:\n",
    "        print(f\"{col}: present ✓, missing ratio = {df[col].isna().mean():.2%}\")\n",
    "    else:\n",
    "        print(f\"{col}: MISSING ✗\")\n"
   ]
  },
  {
   "cell_type": "code",
   "execution_count": 1,
   "id": "cdb910d7",
   "metadata": {
    "vscode": {
     "languageId": "plaintext"
    }
   },
   "outputs": [
    {
     "ename": "ModuleNotFoundError",
     "evalue": "No module named 'utils'",
     "output_type": "error",
     "traceback": [
      "\u001b[0;31m---------------------------------------------------------------------------\u001b[0m",
      "\u001b[0;31mModuleNotFoundError\u001b[0m                       Traceback (most recent call last)",
      "Cell \u001b[0;32mIn[1], line 3\u001b[0m\n\u001b[1;32m      1\u001b[0m \u001b[38;5;28;01mfrom\u001b[39;00m \u001b[38;5;21;01mpathlib\u001b[39;00m \u001b[38;5;28;01mimport\u001b[39;00m Path\n\u001b[1;32m      2\u001b[0m \u001b[38;5;28;01mimport\u001b[39;00m \u001b[38;5;21;01mpandas\u001b[39;00m \u001b[38;5;28;01mas\u001b[39;00m \u001b[38;5;21;01mpd\u001b[39;00m\n\u001b[0;32m----> 3\u001b[0m \u001b[38;5;28;01mfrom\u001b[39;00m \u001b[38;5;21;01mutils\u001b[39;00m\u001b[38;5;21;01m.\u001b[39;00m\u001b[38;5;21;01mconfig\u001b[39;00m \u001b[38;5;28;01mimport\u001b[39;00m load_config, abspath, ensure_dirs\n\u001b[1;32m      4\u001b[0m \u001b[38;5;28;01mfrom\u001b[39;00m \u001b[38;5;21;01mutils\u001b[39;00m\u001b[38;5;21;01m.\u001b[39;00m\u001b[38;5;21;01mpreprocessing\u001b[39;00m \u001b[38;5;28;01mimport\u001b[39;00m run_basic_processing_and_save\n\u001b[1;32m      6\u001b[0m cfg, root \u001b[38;5;241m=\u001b[39m load_config()\n",
      "\u001b[0;31mModuleNotFoundError\u001b[0m: No module named 'utils'"
     ]
    }
   ],
   "source": [
    "from pathlib import Path\n",
    "import pandas as pd\n",
    "from utils.config import load_config, abspath, ensure_dirs\n",
    "from utils.preprocessing import run_basic_processing_and_save\n",
    "\n",
    "cfg, root = load_config()\n",
    "cfg, root\n"
   ]
  },
  {
   "cell_type": "code",
   "execution_count": null,
   "id": "6e33221b",
   "metadata": {
    "vscode": {
     "languageId": "plaintext"
    }
   },
   "outputs": [],
   "source": [
    "df, out_ds = run_basic_processing_and_save(cfg, root)\n",
    "df.shape, out_ds\n"
   ]
  },
  {
   "cell_type": "code",
   "execution_count": null,
   "id": "e2ddbb96",
   "metadata": {
    "vscode": {
     "languageId": "plaintext"
    }
   },
   "outputs": [],
   "source": [
    "import matplotlib.pyplot as plt\n",
    "\n",
    "# GHQ caseness\n",
    "if \"target_cls\" in df:\n",
    "    df[\"target_cls\"].value_counts(dropna=False).plot(kind=\"bar\")\n",
    "    plt.title(\"GHQ caseness (n_scghq2_dv >= 4)\")\n",
    "    plt.show()\n",
    "\n",
    "# SF-12 MCS 分布\n",
    "if \"target_reg\" in df:\n",
    "    df[\"target_reg\"].dropna().plot(kind=\"hist\", bins=40)\n",
    "    plt.title(\"SF-12 MCS distribution\")\n",
    "    plt.show()\n"
   ]
  },
  {
   "cell_type": "code",
   "execution_count": null,
   "id": "3c87d712",
   "metadata": {
    "vscode": {
     "languageId": "plaintext"
    }
   },
   "outputs": [],
   "source": [
    "# 简单缺失率\n",
    "na = df.isna().mean().sort_values(ascending=False).head(30)\n",
    "na.to_frame(\"missing_rate\").head(20)\n"
   ]
  }
 ],
 "metadata": {
  "kernelspec": {
   "display_name": "Python 3 (ipykernel)",
   "language": "python",
   "name": "python3"
  },
  "language_info": {
   "codemirror_mode": {
    "name": "ipython",
    "version": 3
   },
   "file_extension": ".py",
   "mimetype": "text/x-python",
   "name": "python",
   "nbconvert_exporter": "python",
   "pygments_lexer": "ipython3",
   "version": "3.12.4"
  }
 },
 "nbformat": 4,
 "nbformat_minor": 5
}
