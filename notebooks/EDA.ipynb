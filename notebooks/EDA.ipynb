{
 "cells": [
  {
   "cell_type": "markdown",
   "id": "d6d0b4e2",
   "metadata": {},
   "source": [
    "Set Up"
   ]
  },
  {
   "cell_type": "code",
   "execution_count": null,
   "id": "cdb910d7",
   "metadata": {
    "vscode": {
     "languageId": "plaintext"
    }
   },
   "outputs": [],
   "source": [
    "from pathlib import Path\n",
    "import pandas as pd\n",
    "from utils.config import load_config, abspath, ensure_dirs\n",
    "from utils.preprocessing import run_basic_processing_and_save\n",
    "\n",
    "cfg, root = load_config()\n",
    "cfg, root\n"
   ]
  },
  {
   "cell_type": "code",
   "execution_count": null,
   "id": "6e33221b",
   "metadata": {
    "vscode": {
     "languageId": "plaintext"
    }
   },
   "outputs": [],
   "source": [
    "df, out_ds = run_basic_processing_and_save(cfg, root)\n",
    "df.shape, out_ds\n"
   ]
  },
  {
   "cell_type": "code",
   "execution_count": null,
   "id": "e2ddbb96",
   "metadata": {
    "vscode": {
     "languageId": "plaintext"
    }
   },
   "outputs": [],
   "source": [
    "import matplotlib.pyplot as plt\n",
    "\n",
    "# GHQ caseness\n",
    "if \"target_cls\" in df:\n",
    "    df[\"target_cls\"].value_counts(dropna=False).plot(kind=\"bar\")\n",
    "    plt.title(\"GHQ caseness (n_scghq2_dv >= 4)\")\n",
    "    plt.show()\n",
    "\n",
    "# SF-12 MCS 分布\n",
    "if \"target_reg\" in df:\n",
    "    df[\"target_reg\"].dropna().plot(kind=\"hist\", bins=40)\n",
    "    plt.title(\"SF-12 MCS distribution\")\n",
    "    plt.show()\n"
   ]
  },
  {
   "cell_type": "code",
   "execution_count": null,
   "id": "3c87d712",
   "metadata": {
    "vscode": {
     "languageId": "plaintext"
    }
   },
   "outputs": [],
   "source": [
    "# 简单缺失率\n",
    "na = df.isna().mean().sort_values(ascending=False).head(30)\n",
    "na.to_frame(\"missing_rate\").head(20)\n"
   ]
  }
 ],
 "metadata": {
  "language_info": {
   "name": "python"
  }
 },
 "nbformat": 4,
 "nbformat_minor": 5
}
