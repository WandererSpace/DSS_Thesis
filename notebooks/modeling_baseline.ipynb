{
 "cells": [
  {
   "cell_type": "code",
   "execution_count": null,
   "id": "2fde7390",
   "metadata": {
    "vscode": {
     "languageId": "plaintext"
    }
   },
   "outputs": [],
   "source": [
    "from utils.config import load_config, abspath\n",
    "import pandas as pd\n",
    "cfg, root = load_config()\n",
    "ds_path = abspath(root, cfg[\"processing\"][\"outputs\"][\"dataset_for_model\"])\n",
    "df = pd.read_parquet(ds_path)\n",
    "df.shape\n"
   ]
  },
  {
   "cell_type": "code",
   "execution_count": null,
   "id": "893045df",
   "metadata": {
    "vscode": {
     "languageId": "plaintext"
    }
   },
   "outputs": [],
   "source": [
    "!python scripts/train.py --task classification --rebuild\n",
    "# 或回归：\n",
    "# !python scripts/train.py --task regression --rebuild\n"
   ]
  },
  {
   "cell_type": "code",
   "execution_count": null,
   "id": "dbae3db2",
   "metadata": {
    "vscode": {
     "languageId": "plaintext"
    }
   },
   "outputs": [],
   "source": [
    "import json, pandas as pd\n",
    "from utils.config import abspath\n",
    "\n",
    "metrics_path = abspath(root, cfg[\"modeling\"][\"outputs\"][\"metrics_file\"])\n",
    "print(json.loads(metrics_path.read_text()))\n",
    "\n",
    "preds_path = abspath(root, cfg[\"modeling\"][\"outputs\"][\"predictions_file\"])\n",
    "pd.read_parquet(preds_path).head()\n"
   ]
  }
 ],
 "metadata": {
  "language_info": {
   "name": "python"
  }
 },
 "nbformat": 4,
 "nbformat_minor": 5
}
